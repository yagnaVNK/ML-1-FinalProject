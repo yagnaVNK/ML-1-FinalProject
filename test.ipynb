{
 "cells": [
  {
   "cell_type": "code",
   "execution_count": 1,
   "metadata": {},
   "outputs": [],
   "source": [
    "import torch\n",
    "import torch.nn as nn"
   ]
  },
  {
   "cell_type": "code",
   "execution_count": 2,
   "metadata": {},
   "outputs": [
    {
     "name": "stderr",
     "output_type": "stream",
     "text": [
      "c:\\Users\\kaasa\\AppData\\Local\\Programs\\Python\\Python310\\lib\\site-packages\\torchaudio\\backend\\utils.py:74: UserWarning: No audio backend is available.\n",
      "  warnings.warn(\"No audio backend is available.\")\n"
     ]
    },
    {
     "name": "stdout",
     "output_type": "stream",
     "text": [
      "WARNING:tensorflow:From c:\\Users\\kaasa\\AppData\\Local\\Programs\\Python\\Python310\\lib\\site-packages\\keras\\src\\losses.py:2976: The name tf.losses.sparse_softmax_cross_entropy is deprecated. Please use tf.compat.v1.losses.sparse_softmax_cross_entropy instead.\n",
      "\n",
      "torch.Size([128, 128, 6, 6])\n",
      "torch.Size([128, 128, 12, 12])\n",
      "torch.Size([128, 128, 12, 12])\n",
      "torch.Size([128, 12, 12])\n",
      "torch.Size([128, 12, 12])\n",
      "tensor(11.9850)\n"
     ]
    }
   ],
   "source": [
    "import Encoder as E\n",
    "import Decoder as D\n",
    "from torch.nn import functional as F\n",
    "\n",
    "x = torch.randn(16,3,28,28,device = 'cuda')\n",
    "model1 = E.ENCODER1(in_feat_dim=3,codebook_dim=128,hidden_dim=128).to(device = 'cuda')\n",
    "model2 = D.DECODER1(in_feat_dim=128,out_feat_dim=3,hidden_dim=128).to(device = 'cuda')\n",
    "\n",
    "z_e = torch.randn(128,128,6,6)\n",
    "z_e_lower = torch.randn(128,128,12,12)\n",
    "z_e_lower_tilde = torch.randn(128,128,12,12)\n",
    "\n",
    "print(z_e.shape)\n",
    "print(z_e_lower.shape)\n",
    "print(z_e_lower_tilde.shape)\n",
    "print((1-F.cosine_similarity(z_e_lower, z_e_lower_tilde, dim = 1)).shape)\n",
    "print((torch.zeros(z_e_lower.shape[0], z_e_lower.shape[2], z_e_lower.shape[2])).shape)\n",
    "print(torch.max(1-F.cosine_similarity(z_e_lower, z_e_lower_tilde, dim = 1),torch.zeros(z_e_lower.shape[0], z_e_lower.shape[2], z_e_lower.shape[2])).sum(dim=1).mean())\n",
    "\n"
   ]
  },
  {
   "cell_type": "code",
   "execution_count": 3,
   "metadata": {},
   "outputs": [
    {
     "name": "stdout",
     "output_type": "stream",
     "text": [
      "Files already downloaded and verified\n",
      "Files already downloaded and verified\n"
     ]
    },
    {
     "name": "stderr",
     "output_type": "stream",
     "text": [
      "GPU available: True (cuda), used: True\n",
      "TPU available: False, using: 0 TPU cores\n",
      "IPU available: False, using: 0 IPUs\n",
      "HPU available: False, using: 0 HPUs\n",
      "You are using a CUDA device ('NVIDIA GeForce RTX 3080 Ti') that has Tensor Cores. To properly utilize them, you should set `torch.set_float32_matmul_precision('medium' | 'high')` which will trade-off precision for performance. For more details, read https://pytorch.org/docs/stable/generated/torch.set_float32_matmul_precision.html#torch.set_float32_matmul_precision\n",
      "LOCAL_RANK: 0 - CUDA_VISIBLE_DEVICES: [0]\n",
      "\n",
      "  | Name     | Type       | Params\n",
      "----------------------------------------\n",
      "0 | encoder  | ENCODER1   | 23.6 K\n",
      "1 | decoder  | DECODER1   | 56.3 K\n",
      "2 | codebook | VQCodebook | 4.1 K \n",
      "----------------------------------------\n",
      "83.9 K    Trainable params\n",
      "0         Non-trainable params\n",
      "83.9 K    Total params\n",
      "0.336     Total estimated model params size (MB)\n"
     ]
    },
    {
     "data": {
      "application/vnd.jupyter.widget-view+json": {
       "model_id": "ef54c34da6d24b65bd1bc9ca85e2e9ba",
       "version_major": 2,
       "version_minor": 0
      },
      "text/plain": [
       "Sanity Checking: |          | 0/? [00:00<?, ?it/s]"
      ]
     },
     "metadata": {},
     "output_type": "display_data"
    },
    {
     "name": "stderr",
     "output_type": "stream",
     "text": [
      "c:\\Users\\kaasa\\AppData\\Local\\Programs\\Python\\Python310\\lib\\site-packages\\lightning\\pytorch\\trainer\\connectors\\data_connector.py:441: The 'val_dataloader' does not have many workers which may be a bottleneck. Consider increasing the value of the `num_workers` argument` to `num_workers=15` in the `DataLoader` to improve performance.\n",
      "c:\\Users\\kaasa\\AppData\\Local\\Programs\\Python\\Python310\\lib\\site-packages\\lightning\\pytorch\\trainer\\connectors\\data_connector.py:441: The 'train_dataloader' does not have many workers which may be a bottleneck. Consider increasing the value of the `num_workers` argument` to `num_workers=15` in the `DataLoader` to improve performance.\n"
     ]
    },
    {
     "data": {
      "application/vnd.jupyter.widget-view+json": {
       "model_id": "363beaf77fa846668f521560cef08b8e",
       "version_major": 2,
       "version_minor": 0
      },
      "text/plain": [
       "Training: |          | 0/? [00:00<?, ?it/s]"
      ]
     },
     "metadata": {},
     "output_type": "display_data"
    },
    {
     "data": {
      "application/vnd.jupyter.widget-view+json": {
       "model_id": "2d9770dcab7e4474aa2c413762171008",
       "version_major": 2,
       "version_minor": 0
      },
      "text/plain": [
       "Validation: |          | 0/? [00:00<?, ?it/s]"
      ]
     },
     "metadata": {},
     "output_type": "display_data"
    },
    {
     "data": {
      "application/vnd.jupyter.widget-view+json": {
       "model_id": "a5a04c957efd4731b960550823a3184a",
       "version_major": 2,
       "version_minor": 0
      },
      "text/plain": [
       "Validation: |          | 0/? [00:00<?, ?it/s]"
      ]
     },
     "metadata": {},
     "output_type": "display_data"
    },
    {
     "data": {
      "application/vnd.jupyter.widget-view+json": {
       "model_id": "065d639cc43c41378bd8f9c48b72be99",
       "version_major": 2,
       "version_minor": 0
      },
      "text/plain": [
       "Validation: |          | 0/? [00:00<?, ?it/s]"
      ]
     },
     "metadata": {},
     "output_type": "display_data"
    },
    {
     "data": {
      "application/vnd.jupyter.widget-view+json": {
       "model_id": "206c4359e86c40e2adef0cdc569f469a",
       "version_major": 2,
       "version_minor": 0
      },
      "text/plain": [
       "Validation: |          | 0/? [00:00<?, ?it/s]"
      ]
     },
     "metadata": {},
     "output_type": "display_data"
    },
    {
     "data": {
      "application/vnd.jupyter.widget-view+json": {
       "model_id": "1dae866b016544d49c12322ea08a2078",
       "version_major": 2,
       "version_minor": 0
      },
      "text/plain": [
       "Validation: |          | 0/? [00:00<?, ?it/s]"
      ]
     },
     "metadata": {},
     "output_type": "display_data"
    },
    {
     "name": "stderr",
     "output_type": "stream",
     "text": [
      "`Trainer.fit` stopped: `max_epochs=5` reached.\n"
     ]
    }
   ],
   "source": [
    "\n",
    "from typing import Any\n",
    "import lightning.pytorch as pl\n",
    "from torchvision.datasets import MNIST,CIFAR10\n",
    "from torchvision import transforms\n",
    "from torch.utils.data import DataLoader\n",
    "import numpy as np\n",
    "import torch.nn.functional as F\n",
    "import Codebook as CB\n",
    "\n",
    "training_dataset = CIFAR10(root='./data',train=True,download=True,transform=transforms.Compose([\n",
    "            transforms.RandomHorizontalFlip(),\n",
    "            transforms.CenterCrop(24),\n",
    "            transforms.ToTensor()]))\n",
    "validation_dataset = CIFAR10(root='./data',train=False,download=True,transform=transforms.Compose([\n",
    "            transforms.CenterCrop(24),\n",
    "            transforms.ToTensor()]))\n",
    "\n",
    "training_dataloader = DataLoader(training_dataset,batch_size=128)\n",
    "validation_dataloader = DataLoader(validation_dataset,batch_size=128)\n",
    "\n",
    "class AUTOENCODER(pl.LightningModule):\n",
    "    def __init__(self, \n",
    "                 input_dim = 1,\n",
    "                 hiddern_dim =128,):\n",
    "        super().__init__()\n",
    "        self.encoder = E.ENCODER1(in_feat_dim=input_dim,codebook_dim=hiddern_dim,hidden_dim=hiddern_dim).to(device = 'cuda')\n",
    "        self.decoder = D.DECODER1(in_feat_dim=hiddern_dim,out_feat_dim=input_dim,hidden_dim=hiddern_dim).to(device = 'cuda')\n",
    "        self.codebook = CB.VQCodebook(hiddern_dim,hiddern_dim,0.9)\n",
    "        self.automatic_optimization=False\n",
    "\n",
    "    def forward(self,x):\n",
    "        z_e = self.encoder(x)\n",
    "        z_q, indices, KL, Commit_loss = self.codebook.z_e_to_z_q(z_e, soft=True)\n",
    "        out = self.decoder(z_q)\n",
    "        return out ,x , z_e, indices , KL , Commit_loss\n",
    "    \n",
    "    def training_step(self, batch, batch_idx):\n",
    "        opt = self.optimizers()\n",
    "\n",
    "        X, _ = batch\n",
    "        d_x, _, _,indices,KL,CL = self(X)  \n",
    "        reconLoss = F.mse_loss(X, d_x)\n",
    "        loss = reconLoss + KL + CL\n",
    "        opt.zero_grad()\n",
    "        self.manual_backward(loss)\n",
    "        opt.step()\n",
    "\n",
    "        self.log(\"train_recon_loss\", reconLoss, prog_bar=True)\n",
    "        self.log(\"train_KL_loss\", KL, prog_bar=True)\n",
    "        self.log(\"train_CL_loss\", CL, prog_bar=True)\n",
    "        self.log(\"loss\", loss, prog_bar=True)\n",
    "\n",
    "    def validation_step(self, batch, batch_idx):\n",
    "        opt = self.optimizers()\n",
    "\n",
    "        X, _ = batch\n",
    "        d_x, _, _,indices,KL,CL = self(X)  \n",
    "        reconLoss = F.mse_loss(X, d_x)\n",
    "        loss = reconLoss + KL + CL\n",
    "        \n",
    "\n",
    "        self.log(\"val_recon_loss\", reconLoss, prog_bar=True)\n",
    "        self.log(\"val_KL_loss\", KL, prog_bar=True)\n",
    "        self.log(\"val_CL_loss\", CL, prog_bar=True)\n",
    "        self.log(\"val_loss\", loss, prog_bar=True)\n",
    "\n",
    "\n",
    "    def configure_optimizers(self):\n",
    "        opt = torch.optim.Adam(self.parameters(), lr=1e-5)\n",
    "        return opt \n",
    "    \n",
    "    \n",
    "model = AUTOENCODER(3,64)\n",
    "\n",
    "trainer = pl.Trainer(max_epochs=5, devices=1)\n",
    "\n",
    "trainer.fit(model, train_dataloaders=training_dataloader,\n",
    "            val_dataloaders=validation_dataloader)\n"
   ]
  },
  {
   "cell_type": "code",
   "execution_count": 4,
   "metadata": {},
   "outputs": [
    {
     "data": {
      "image/png": "[encoded data removed]",
      "text/plain": [
       "<Figure size 800x400 with 2 Axes>"
      ]
     },
     "metadata": {},
     "output_type": "display_data"
    }
   ],
   "source": [
    "import matplotlib.pyplot as plt\n",
    "import random\n",
    "\n",
    "# Select a random sample from the validation dataset\n",
    "sample_index = random.randint(0, len(validation_dataset) - 1)\n",
    "sample_image, _ = validation_dataset[sample_index]\n",
    "\n",
    "# Pass the sample through the autoencoder\n",
    "reconstructed_image, _, _,_,_,_ = model(sample_image.unsqueeze(0))  # Unsqueezing to add batch dimension\n",
    "\n",
    "# Convert PyTorch tensors to numpy arrays and remove batch dimension\n",
    "sample_image = sample_image.permute(1, 2, 0).numpy()\n",
    "reconstructed_image = reconstructed_image.squeeze(0).permute(1, 2, 0).detach().numpy()\n",
    "\n",
    "# Plot the original image and its reconstruction\n",
    "plt.figure(figsize=(8, 4))\n",
    "plt.subplot(1, 2, 1)\n",
    "plt.title('Original Image')\n",
    "plt.imshow(sample_image)\n",
    "plt.axis('off')\n",
    "\n",
    "plt.subplot(1, 2, 2)\n",
    "plt.title('Reconstructed Image')\n",
    "plt.imshow(reconstructed_image)\n",
    "plt.axis('off')\n",
    "\n",
    "plt.show()\n"
   ]
  },
  {
   "cell_type": "code",
   "execution_count": null,
   "metadata": {},
   "outputs": [],
   "source": []
  }
 ],
 "metadata": {
  "kernelspec": {
   "display_name": "Python 3",
   "language": "python",
   "name": "python3"
  },
  "language_info": {
   "codemirror_mode": {
    "name": "ipython",
    "version": 3
   },
   "file_extension": ".py",
   "mimetype": "text/x-python",
   "name": "python",
   "nbconvert_exporter": "python",
   "pygments_lexer": "ipython3",
   "version": "3.10.10"
  }
 },
 "nbformat": 4,
 "nbformat_minor": 2
}
